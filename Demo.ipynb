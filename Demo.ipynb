{
 "cells": [
  {
   "cell_type": "code",
   "execution_count": 1,
   "id": "823dddbd-d059-4f2a-b32e-b484e4031386",
   "metadata": {},
   "outputs": [],
   "source": [
    "from sentiment_analysis.model import Model\n",
    "from sentiment_analysis.common.checkpointer import Checkpointer\n",
    "from sentiment_analysis.experiment import load_settings\n",
    "from flax import nnx\n",
    "from jax import numpy as jnp\n",
    "import jax\n",
    "from pathlib import Path"
   ]
  },
  {
   "cell_type": "code",
   "execution_count": 25,
   "id": "bad9e76c-41b4-421a-a3c0-03d19673307d",
   "metadata": {},
   "outputs": [],
   "source": [
    "path = Path(\"results/small_mixed_single_2024-07-18_13-20-12\")\n",
    "settings = load_settings(path / \"settings.json\")\n",
    "\n",
    "original = Model(settings.model, nnx.Rngs(0))\n",
    "\n",
    "checkpoints = Checkpointer(path / \"checkpoints\")\n",
    "model = checkpoints.restore(original, 49999)"
   ]
  },
  {
   "cell_type": "code",
   "execution_count": 6,
   "id": "abd5fa2a-9fa8-4dc0-bccf-6ba64ce04ca9",
   "metadata": {},
   "outputs": [],
   "source": [
    "import tokenmonster\n",
    "vocab = tokenmonster.load(settings.model.vocab.path)"
   ]
  },
  {
   "cell_type": "code",
   "execution_count": 47,
   "id": "207c974f-bd27-4f7d-b50d-5417df9a159f",
   "metadata": {},
   "outputs": [],
   "source": [
    "@nnx.jit\n",
    "def eval_model(model, tokens):\n",
    "    pred = model(tokens, True, nnx.Rngs(0))\n",
    "    return jnp.argmax(pred)\n",
    "\n",
    "def eval_text(text):\n",
    "    tokens = list(vocab.tokenize(text))\n",
    "    print('tokens: ' + str(len(tokens)))\n",
    "    padded_tokens = jnp.array(tokens + [-1] * (115 - len(tokens)), jnp.int16)\n",
    "    if len(tokens) > 115:\n",
    "        padded_tokens = padded_tokens[:115]\n",
    "\n",
    "    return eval_model(model, padded_tokens)"
   ]
  },
  {
   "cell_type": "code",
   "execution_count": 27,
   "id": "da953d61-7bfa-4fb1-b2ae-e6ba1610157a",
   "metadata": {},
   "outputs": [],
   "source": [
    "import ipywidgets as widgets\n",
    "from IPython.display import display"
   ]
  },
  {
   "cell_type": "code",
   "execution_count": 46,
   "id": "f4abd1ea-ad5b-4924-9a22-a26c8f049341",
   "metadata": {},
   "outputs": [
    {
     "data": {
      "application/vnd.jupyter.widget-view+json": {
       "model_id": "dfe228765f734477a1fc3b9f01ad9fb4",
       "version_major": 2,
       "version_minor": 0
      },
      "text/plain": [
       "Textarea(value='', description='Input:', layout=Layout(width='auto'), placeholder='Type something')"
      ]
     },
     "metadata": {},
     "output_type": "display_data"
    },
    {
     "data": {
      "application/vnd.jupyter.widget-view+json": {
       "model_id": "e441eb4f0053434f80f0ef79831e2521",
       "version_major": 2,
       "version_minor": 0
      },
      "text/plain": [
       "Button(button_style='success', description='Submit', icon='check', style=ButtonStyle(), tooltip='Submit text f…"
      ]
     },
     "metadata": {},
     "output_type": "display_data"
    },
    {
     "data": {
      "application/vnd.jupyter.widget-view+json": {
       "model_id": "9c86f0ab642243dcb2cfb74370466a19",
       "version_major": 2,
       "version_minor": 0
      },
      "text/plain": [
       "Output()"
      ]
     },
     "metadata": {},
     "output_type": "display_data"
    }
   ],
   "source": [
    "text_area = widgets.Textarea(\n",
    "    value='',\n",
    "    placeholder='Type something',\n",
    "    description='Input:',\n",
    "    layout=widgets.Layout(width=\"auto\"),\n",
    ")\n",
    "\n",
    "submit_button = widgets.Button(\n",
    "    description='Submit',\n",
    "    disabled=False,\n",
    "    button_style='success',\n",
    "    tooltip='Submit text for classification',\n",
    "    icon='check'\n",
    ")\n",
    "\n",
    "# Create an Output widget to display the classification result\n",
    "output = widgets.Output()\n",
    "\n",
    "# Define the function to call when the text changes\n",
    "def on_text_change(change):\n",
    "    with output:\n",
    "        output.clear_output()  # Clear previous output\n",
    "        result = eval_text(text_area.value)  # Get the classification result\n",
    "        \n",
    "        #print(\"*\" * (result.item() + 1))  # Display the result\n",
    "\n",
    "# Attach the function to the text area's 'value' trait\n",
    "submit_button.on_click(on_text_change)\n",
    "\n",
    "# Display the widgets\n",
    "display(text_area, submit_button, output)"
   ]
  },
  {
   "cell_type": "code",
   "execution_count": null,
   "id": "c7d634a2-49e5-44af-95b6-f471e4c7005e",
   "metadata": {},
   "outputs": [],
   "source": []
  }
 ],
 "metadata": {
  "kernelspec": {
   "display_name": "Python 3 (ipykernel)",
   "language": "python",
   "name": "python3"
  },
  "language_info": {
   "codemirror_mode": {
    "name": "ipython",
    "version": 3
   },
   "file_extension": ".py",
   "mimetype": "text/x-python",
   "name": "python",
   "nbconvert_exporter": "python",
   "pygments_lexer": "ipython3",
   "version": "3.12.2"
  }
 },
 "nbformat": 4,
 "nbformat_minor": 5
}
